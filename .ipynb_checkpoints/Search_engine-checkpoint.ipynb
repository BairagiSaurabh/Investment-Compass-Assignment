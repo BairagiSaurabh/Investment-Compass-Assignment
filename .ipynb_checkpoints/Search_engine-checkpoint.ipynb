{
 "cells": [
  {
   "cell_type": "code",
   "execution_count": 5,
   "id": "f33fa17c-39fa-418f-a675-93f5a47ee085",
   "metadata": {},
   "outputs": [],
   "source": [
    "#!pip3 install requests-html\n",
    "import sys\n",
    "sys.path.append(r'c:\\users\\rajpo\\appdata\\local\\programs\\python\\python311\\lib\\site-packages')"
   ]
  },
  {
   "cell_type": "code",
   "execution_count": 6,
   "id": "7fa81f43-01ae-47b3-981c-0ff354a1ac46",
   "metadata": {},
   "outputs": [],
   "source": [
    "import requests_html\n",
    "from rich import console\n",
    "import webbrowser"
   ]
  },
  {
   "cell_type": "code",
   "execution_count": 7,
   "id": "21af60b6-ce99-4f21-9a91-2fc436a63eed",
   "metadata": {},
   "outputs": [
    {
     "data": {
      "text/html": [
       "<pre style=\"white-space:pre;overflow-x:auto;line-height:normal;font-family:Menlo,'DejaVu Sans Mono',consolas,'Courier New',monospace\">Insert the search term: </pre>\n"
      ],
      "text/plain": [
       "Insert the search term: "
      ]
     },
     "metadata": {},
     "output_type": "display_data"
    },
    {
     "name": "stdin",
     "output_type": "stream",
     "text": [
      " Bitcoin\n"
     ]
    },
    {
     "data": {
      "text/html": [
       "<pre style=\"white-space:pre;overflow-x:auto;line-height:normal;font-family:Menlo,'DejaVu Sans Mono',consolas,'Courier New',monospace\"><span style=\"color: #000080; text-decoration-color: #000080; font-weight: bold\">0</span><span style=\"color: #000080; text-decoration-color: #000080\"> </span>      <span style=\"color: #000080; text-decoration-color: #000080\">Bitcoin</span>\n",
       "<span style=\"color: #000080; text-decoration-color: #000080\"> </span>       <span style=\"color: #c0c0c0; text-decoration-color: #c0c0c0\">or other symbols. Bitcoin </span><span style=\"color: #c0c0c0; text-decoration-color: #c0c0c0; font-weight: bold\">(</span><span style=\"color: #c0c0c0; text-decoration-color: #c0c0c0\">abbreviation: BTC; sign: ₿</span><span style=\"color: #c0c0c0; text-decoration-color: #c0c0c0; font-weight: bold\">)</span><span style=\"color: #c0c0c0; text-decoration-color: #c0c0c0\"> is the first decentralized cryptocurrency. Nodes in </span>\n",
       "<span style=\"color: #c0c0c0; text-decoration-color: #c0c0c0\">the peer-to-peer bitcoin network verify transactions...</span>\n",
       "<span style=\"color: #c0c0c0; text-decoration-color: #c0c0c0\"> </span>       <span style=\"color: #008000; text-decoration-color: #008000; font-weight: bold\">87</span><span style=\"color: #008000; text-decoration-color: #008000\"> KB </span><span style=\"color: #008000; text-decoration-color: #008000; font-weight: bold\">(</span><span style=\"color: #008000; text-decoration-color: #008000; font-weight: bold\">7</span><span style=\"color: #008000; text-decoration-color: #008000\">,</span><span style=\"color: #008000; text-decoration-color: #008000; font-weight: bold\">444</span><span style=\"color: #008000; text-decoration-color: #008000\"> words</span><span style=\"color: #008000; text-decoration-color: #008000; font-weight: bold\">)</span><span style=\"color: #008000; text-decoration-color: #008000\"> - </span><span style=\"color: #008000; text-decoration-color: #008000; font-weight: bold\">04:43</span><span style=\"color: #008000; text-decoration-color: #008000\">, </span><span style=\"color: #008000; text-decoration-color: #008000; font-weight: bold\">17</span><span style=\"color: #008000; text-decoration-color: #008000\"> March </span><span style=\"color: #008000; text-decoration-color: #008000; font-weight: bold\">2024</span>\n",
       "\n",
       "</pre>\n"
      ],
      "text/plain": [
       "\u001b[1;34m0\u001b[0m\u001b[34m \u001b[0m      \u001b[34mBitcoin\u001b[0m\n",
       "\u001b[34m \u001b[0m       \u001b[37mor other symbols. Bitcoin \u001b[0m\u001b[1;37m(\u001b[0m\u001b[37mabbreviation: BTC; sign: ₿\u001b[0m\u001b[1;37m)\u001b[0m\u001b[37m is the first decentralized cryptocurrency. Nodes in \u001b[0m\n",
       "\u001b[37mthe peer-to-peer bitcoin network verify transactions\u001b[0m\u001b[37m...\u001b[0m\n",
       "\u001b[37m \u001b[0m       \u001b[1;32m87\u001b[0m\u001b[32m KB \u001b[0m\u001b[1;32m(\u001b[0m\u001b[1;32m7\u001b[0m\u001b[32m,\u001b[0m\u001b[1;32m444\u001b[0m\u001b[32m words\u001b[0m\u001b[1;32m)\u001b[0m\u001b[32m - \u001b[0m\u001b[1;32m04:43\u001b[0m\u001b[32m, \u001b[0m\u001b[1;32m17\u001b[0m\u001b[32m March \u001b[0m\u001b[1;32m2024\u001b[0m\n",
       "\n"
      ]
     },
     "metadata": {},
     "output_type": "display_data"
    },
    {
     "data": {
      "text/html": [
       "<pre style=\"white-space:pre;overflow-x:auto;line-height:normal;font-family:Menlo,'DejaVu Sans Mono',consolas,'Courier New',monospace\"><span style=\"color: #000080; text-decoration-color: #000080; font-weight: bold\">1</span><span style=\"color: #000080; text-decoration-color: #000080\"> </span>      <span style=\"color: #000080; text-decoration-color: #000080\">History of bitcoin</span>\n",
       "<span style=\"color: #000080; text-decoration-color: #000080\"> </span>       <span style=\"color: #c0c0c0; text-decoration-color: #c0c0c0\">Bitcoin is a cryptocurrency, a digital asset that uses cryptography to control its creation and management </span>\n",
       "<span style=\"color: #c0c0c0; text-decoration-color: #c0c0c0\">rather than relying on central authorities...</span>\n",
       "<span style=\"color: #c0c0c0; text-decoration-color: #c0c0c0\"> </span>       <span style=\"color: #008000; text-decoration-color: #008000; font-weight: bold\">150</span><span style=\"color: #008000; text-decoration-color: #008000\"> KB </span><span style=\"color: #008000; text-decoration-color: #008000; font-weight: bold\">(</span><span style=\"color: #008000; text-decoration-color: #008000; font-weight: bold\">13</span><span style=\"color: #008000; text-decoration-color: #008000\">,</span><span style=\"color: #008000; text-decoration-color: #008000; font-weight: bold\">050</span><span style=\"color: #008000; text-decoration-color: #008000\"> words</span><span style=\"color: #008000; text-decoration-color: #008000; font-weight: bold\">)</span><span style=\"color: #008000; text-decoration-color: #008000\"> - </span><span style=\"color: #008000; text-decoration-color: #008000; font-weight: bold\">12:46</span><span style=\"color: #008000; text-decoration-color: #008000\">, </span><span style=\"color: #008000; text-decoration-color: #008000; font-weight: bold\">16</span><span style=\"color: #008000; text-decoration-color: #008000\"> March </span><span style=\"color: #008000; text-decoration-color: #008000; font-weight: bold\">2024</span>\n",
       "\n",
       "</pre>\n"
      ],
      "text/plain": [
       "\u001b[1;34m1\u001b[0m\u001b[34m \u001b[0m      \u001b[34mHistory of bitcoin\u001b[0m\n",
       "\u001b[34m \u001b[0m       \u001b[37mBitcoin is a cryptocurrency, a digital asset that uses cryptography to control its creation and management \u001b[0m\n",
       "\u001b[37mrather than relying on central authorities\u001b[0m\u001b[37m...\u001b[0m\n",
       "\u001b[37m \u001b[0m       \u001b[1;32m150\u001b[0m\u001b[32m KB \u001b[0m\u001b[1;32m(\u001b[0m\u001b[1;32m13\u001b[0m\u001b[32m,\u001b[0m\u001b[1;32m050\u001b[0m\u001b[32m words\u001b[0m\u001b[1;32m)\u001b[0m\u001b[32m - \u001b[0m\u001b[1;32m12:46\u001b[0m\u001b[32m, \u001b[0m\u001b[1;32m16\u001b[0m\u001b[32m March \u001b[0m\u001b[1;32m2024\u001b[0m\n",
       "\n"
      ]
     },
     "metadata": {},
     "output_type": "display_data"
    },
    {
     "data": {
      "text/html": [
       "<pre style=\"white-space:pre;overflow-x:auto;line-height:normal;font-family:Menlo,'DejaVu Sans Mono',consolas,'Courier New',monospace\"><span style=\"color: #000080; text-decoration-color: #000080; font-weight: bold\">2</span><span style=\"color: #000080; text-decoration-color: #000080\"> </span>      <span style=\"color: #000080; text-decoration-color: #000080\">Bitcoin Gold</span>\n",
       "<span style=\"color: #000080; text-decoration-color: #000080\"> </span>       <span style=\"color: #c0c0c0; text-decoration-color: #c0c0c0\">Bitcoin Gold </span><span style=\"color: #c0c0c0; text-decoration-color: #c0c0c0; font-weight: bold\">(</span><span style=\"color: #c0c0c0; text-decoration-color: #c0c0c0\">BTG</span><span style=\"color: #c0c0c0; text-decoration-color: #c0c0c0; font-weight: bold\">)</span><span style=\"color: #c0c0c0; text-decoration-color: #c0c0c0\"> is a cryptocurrency. It is a hard fork of Bitcoin, the open source cryptocurrency. It is</span>\n",
       "<span style=\"color: #c0c0c0; text-decoration-color: #c0c0c0\">an open source, decentralized digital currency...</span>\n",
       "<span style=\"color: #c0c0c0; text-decoration-color: #c0c0c0\"> </span>       <span style=\"color: #008000; text-decoration-color: #008000; font-weight: bold\">7</span><span style=\"color: #008000; text-decoration-color: #008000\"> KB </span><span style=\"color: #008000; text-decoration-color: #008000; font-weight: bold\">(</span><span style=\"color: #008000; text-decoration-color: #008000; font-weight: bold\">551</span><span style=\"color: #008000; text-decoration-color: #008000\"> words</span><span style=\"color: #008000; text-decoration-color: #008000; font-weight: bold\">)</span><span style=\"color: #008000; text-decoration-color: #008000\"> - </span><span style=\"color: #008000; text-decoration-color: #008000; font-weight: bold\">11:45</span><span style=\"color: #008000; text-decoration-color: #008000\">, </span><span style=\"color: #008000; text-decoration-color: #008000; font-weight: bold\">17</span><span style=\"color: #008000; text-decoration-color: #008000\"> February </span><span style=\"color: #008000; text-decoration-color: #008000; font-weight: bold\">2024</span>\n",
       "\n",
       "</pre>\n"
      ],
      "text/plain": [
       "\u001b[1;34m2\u001b[0m\u001b[34m \u001b[0m      \u001b[34mBitcoin Gold\u001b[0m\n",
       "\u001b[34m \u001b[0m       \u001b[37mBitcoin Gold \u001b[0m\u001b[1;37m(\u001b[0m\u001b[37mBTG\u001b[0m\u001b[1;37m)\u001b[0m\u001b[37m is a cryptocurrency. It is a hard fork of Bitcoin, the open source cryptocurrency. It is\u001b[0m\n",
       "\u001b[37man open source, decentralized digital currency\u001b[0m\u001b[37m...\u001b[0m\n",
       "\u001b[37m \u001b[0m       \u001b[1;32m7\u001b[0m\u001b[32m KB \u001b[0m\u001b[1;32m(\u001b[0m\u001b[1;32m551\u001b[0m\u001b[32m words\u001b[0m\u001b[1;32m)\u001b[0m\u001b[32m - \u001b[0m\u001b[1;32m11:45\u001b[0m\u001b[32m, \u001b[0m\u001b[1;32m17\u001b[0m\u001b[32m February \u001b[0m\u001b[1;32m2024\u001b[0m\n",
       "\n"
      ]
     },
     "metadata": {},
     "output_type": "display_data"
    },
    {
     "data": {
      "text/html": [
       "<pre style=\"white-space:pre;overflow-x:auto;line-height:normal;font-family:Menlo,'DejaVu Sans Mono',consolas,'Courier New',monospace\"><span style=\"color: #000080; text-decoration-color: #000080; font-weight: bold\">3</span><span style=\"color: #000080; text-decoration-color: #000080\"> </span>      <span style=\"color: #000080; text-decoration-color: #000080\">Bitcoin protocol</span>\n",
       "<span style=\"color: #000080; text-decoration-color: #000080\"> </span>       <span style=\"color: #c0c0c0; text-decoration-color: #c0c0c0\">The Bitcoin protocol is the set of rules that govern the functioning of Bitcoin. Its key components and </span>\n",
       "<span style=\"color: #c0c0c0; text-decoration-color: #c0c0c0\">principles are: a peer-to-peer decentralized network...</span>\n",
       "<span style=\"color: #c0c0c0; text-decoration-color: #c0c0c0\"> </span>       <span style=\"color: #008000; text-decoration-color: #008000; font-weight: bold\">21</span><span style=\"color: #008000; text-decoration-color: #008000\"> KB </span><span style=\"color: #008000; text-decoration-color: #008000; font-weight: bold\">(</span><span style=\"color: #008000; text-decoration-color: #008000; font-weight: bold\">3</span><span style=\"color: #008000; text-decoration-color: #008000\">,</span><span style=\"color: #008000; text-decoration-color: #008000; font-weight: bold\">003</span><span style=\"color: #008000; text-decoration-color: #008000\"> words</span><span style=\"color: #008000; text-decoration-color: #008000; font-weight: bold\">)</span><span style=\"color: #008000; text-decoration-color: #008000\"> - </span><span style=\"color: #008000; text-decoration-color: #008000; font-weight: bold\">15:17</span><span style=\"color: #008000; text-decoration-color: #008000\">, </span><span style=\"color: #008000; text-decoration-color: #008000; font-weight: bold\">14</span><span style=\"color: #008000; text-decoration-color: #008000\"> March </span><span style=\"color: #008000; text-decoration-color: #008000; font-weight: bold\">2024</span>\n",
       "\n",
       "</pre>\n"
      ],
      "text/plain": [
       "\u001b[1;34m3\u001b[0m\u001b[34m \u001b[0m      \u001b[34mBitcoin protocol\u001b[0m\n",
       "\u001b[34m \u001b[0m       \u001b[37mThe Bitcoin protocol is the set of rules that govern the functioning of Bitcoin. Its key components and \u001b[0m\n",
       "\u001b[37mprinciples are: a peer-to-peer decentralized network\u001b[0m\u001b[37m...\u001b[0m\n",
       "\u001b[37m \u001b[0m       \u001b[1;32m21\u001b[0m\u001b[32m KB \u001b[0m\u001b[1;32m(\u001b[0m\u001b[1;32m3\u001b[0m\u001b[32m,\u001b[0m\u001b[1;32m003\u001b[0m\u001b[32m words\u001b[0m\u001b[1;32m)\u001b[0m\u001b[32m - \u001b[0m\u001b[1;32m15:17\u001b[0m\u001b[32m, \u001b[0m\u001b[1;32m14\u001b[0m\u001b[32m March \u001b[0m\u001b[1;32m2024\u001b[0m\n",
       "\n"
      ]
     },
     "metadata": {},
     "output_type": "display_data"
    },
    {
     "data": {
      "text/html": [
       "<pre style=\"white-space:pre;overflow-x:auto;line-height:normal;font-family:Menlo,'DejaVu Sans Mono',consolas,'Courier New',monospace\"><span style=\"color: #000080; text-decoration-color: #000080; font-weight: bold\">4</span><span style=\"color: #000080; text-decoration-color: #000080\"> </span>      <span style=\"color: #000080; text-decoration-color: #000080\">Bitcoin Cash</span>\n",
       "<span style=\"color: #000080; text-decoration-color: #000080\"> </span>       <span style=\"color: #c0c0c0; text-decoration-color: #c0c0c0\">Bitcoin Cash is a cryptocurrency that is a fork of Bitcoin. Bitcoin Cash is a spin-off or altcoin that was </span>\n",
       "<span style=\"color: #c0c0c0; text-decoration-color: #c0c0c0\">created in </span><span style=\"color: #c0c0c0; text-decoration-color: #c0c0c0; font-weight: bold\">2017</span><span style=\"color: #c0c0c0; text-decoration-color: #c0c0c0\">. In November </span><span style=\"color: #c0c0c0; text-decoration-color: #c0c0c0; font-weight: bold\">2018</span><span style=\"color: #c0c0c0; text-decoration-color: #c0c0c0\">, Bitcoin...</span>\n",
       "<span style=\"color: #c0c0c0; text-decoration-color: #c0c0c0\"> </span>       <span style=\"color: #008000; text-decoration-color: #008000; font-weight: bold\">28</span><span style=\"color: #008000; text-decoration-color: #008000\"> KB </span><span style=\"color: #008000; text-decoration-color: #008000; font-weight: bold\">(</span><span style=\"color: #008000; text-decoration-color: #008000; font-weight: bold\">2</span><span style=\"color: #008000; text-decoration-color: #008000\">,</span><span style=\"color: #008000; text-decoration-color: #008000; font-weight: bold\">543</span><span style=\"color: #008000; text-decoration-color: #008000\"> words</span><span style=\"color: #008000; text-decoration-color: #008000; font-weight: bold\">)</span><span style=\"color: #008000; text-decoration-color: #008000\"> - </span><span style=\"color: #008000; text-decoration-color: #008000; font-weight: bold\">17:33</span><span style=\"color: #008000; text-decoration-color: #008000\">, </span><span style=\"color: #008000; text-decoration-color: #008000; font-weight: bold\">27</span><span style=\"color: #008000; text-decoration-color: #008000\"> February </span><span style=\"color: #008000; text-decoration-color: #008000; font-weight: bold\">2024</span>\n",
       "\n",
       "</pre>\n"
      ],
      "text/plain": [
       "\u001b[1;34m4\u001b[0m\u001b[34m \u001b[0m      \u001b[34mBitcoin Cash\u001b[0m\n",
       "\u001b[34m \u001b[0m       \u001b[37mBitcoin Cash is a cryptocurrency that is a fork of Bitcoin. Bitcoin Cash is a spin-off or altcoin that was \u001b[0m\n",
       "\u001b[37mcreated in \u001b[0m\u001b[1;37m2017\u001b[0m\u001b[37m. In November \u001b[0m\u001b[1;37m2018\u001b[0m\u001b[37m, Bitcoin\u001b[0m\u001b[37m...\u001b[0m\n",
       "\u001b[37m \u001b[0m       \u001b[1;32m28\u001b[0m\u001b[32m KB \u001b[0m\u001b[1;32m(\u001b[0m\u001b[1;32m2\u001b[0m\u001b[32m,\u001b[0m\u001b[1;32m543\u001b[0m\u001b[32m words\u001b[0m\u001b[1;32m)\u001b[0m\u001b[32m - \u001b[0m\u001b[1;32m17:33\u001b[0m\u001b[32m, \u001b[0m\u001b[1;32m27\u001b[0m\u001b[32m February \u001b[0m\u001b[1;32m2024\u001b[0m\n",
       "\n"
      ]
     },
     "metadata": {},
     "output_type": "display_data"
    },
    {
     "data": {
      "text/html": [
       "<pre style=\"white-space:pre;overflow-x:auto;line-height:normal;font-family:Menlo,'DejaVu Sans Mono',consolas,'Courier New',monospace\"><span style=\"color: #000080; text-decoration-color: #000080; font-weight: bold\">5</span><span style=\"color: #000080; text-decoration-color: #000080\"> </span>      <span style=\"color: #000080; text-decoration-color: #000080\">Legality of cryptocurrency by country or territory </span><span style=\"color: #000080; text-decoration-color: #000080; font-weight: bold\">(</span><span style=\"color: #000080; text-decoration-color: #000080\">redirect from Legality of bitcoin</span><span style=\"color: #000080; text-decoration-color: #000080; font-weight: bold\">)</span>\n",
       "<span style=\"color: #000080; text-decoration-color: #000080\"> </span>       <span style=\"color: #c0c0c0; text-decoration-color: #c0c0c0\">algorithms Taxation of cryptocurrency splits Bitcoin Law Anti-bitcoin law protests Translated from: </span>\n",
       "<span style=\"color: #c0c0c0; text-decoration-color: #c0c0c0\">\"...bitcoin nespĺňa atribúty meny v právnom zmysle </span><span style=\"color: #c0c0c0; text-decoration-color: #c0c0c0; font-weight: bold\">(</span><span style=\"color: #c0c0c0; text-decoration-color: #c0c0c0\">jeho...</span>\n",
       "<span style=\"color: #c0c0c0; text-decoration-color: #c0c0c0\"> </span>       <span style=\"color: #008000; text-decoration-color: #008000; font-weight: bold\">168</span><span style=\"color: #008000; text-decoration-color: #008000\"> KB </span><span style=\"color: #008000; text-decoration-color: #008000; font-weight: bold\">(</span><span style=\"color: #008000; text-decoration-color: #008000; font-weight: bold\">5</span><span style=\"color: #008000; text-decoration-color: #008000\">,</span><span style=\"color: #008000; text-decoration-color: #008000; font-weight: bold\">912</span><span style=\"color: #008000; text-decoration-color: #008000\"> words</span><span style=\"color: #008000; text-decoration-color: #008000; font-weight: bold\">)</span><span style=\"color: #008000; text-decoration-color: #008000\"> - </span><span style=\"color: #008000; text-decoration-color: #008000; font-weight: bold\">17:01</span><span style=\"color: #008000; text-decoration-color: #008000\">, </span><span style=\"color: #008000; text-decoration-color: #008000; font-weight: bold\">5</span><span style=\"color: #008000; text-decoration-color: #008000\"> March </span><span style=\"color: #008000; text-decoration-color: #008000; font-weight: bold\">2024</span>\n",
       "\n",
       "</pre>\n"
      ],
      "text/plain": [
       "\u001b[1;34m5\u001b[0m\u001b[34m \u001b[0m      \u001b[34mLegality of cryptocurrency by country or territory \u001b[0m\u001b[1;34m(\u001b[0m\u001b[34mredirect from Legality of bitcoin\u001b[0m\u001b[1;34m)\u001b[0m\n",
       "\u001b[34m \u001b[0m       \u001b[37malgorithms Taxation of cryptocurrency splits Bitcoin Law Anti-bitcoin law protests Translated from: \u001b[0m\n",
       "\u001b[37m\"\u001b[0m\u001b[37m...\u001b[0m\u001b[37mbitcoin nespĺňa atribúty meny v právnom zmysle \u001b[0m\u001b[1;37m(\u001b[0m\u001b[37mjeho\u001b[0m\u001b[37m...\u001b[0m\n",
       "\u001b[37m \u001b[0m       \u001b[1;32m168\u001b[0m\u001b[32m KB \u001b[0m\u001b[1;32m(\u001b[0m\u001b[1;32m5\u001b[0m\u001b[32m,\u001b[0m\u001b[1;32m912\u001b[0m\u001b[32m words\u001b[0m\u001b[1;32m)\u001b[0m\u001b[32m - \u001b[0m\u001b[1;32m17:01\u001b[0m\u001b[32m, \u001b[0m\u001b[1;32m5\u001b[0m\u001b[32m March \u001b[0m\u001b[1;32m2024\u001b[0m\n",
       "\n"
      ]
     },
     "metadata": {},
     "output_type": "display_data"
    },
    {
     "data": {
      "text/html": [
       "<pre style=\"white-space:pre;overflow-x:auto;line-height:normal;font-family:Menlo,'DejaVu Sans Mono',consolas,'Courier New',monospace\"><span style=\"color: #000080; text-decoration-color: #000080; font-weight: bold\">6</span><span style=\"color: #000080; text-decoration-color: #000080\"> </span>      <span style=\"color: #000080; text-decoration-color: #000080\">Cryptocurrency</span>\n",
       "<span style=\"color: #000080; text-decoration-color: #000080\"> </span>       <span style=\"color: #c0c0c0; text-decoration-color: #c0c0c0\">behind Bitcoin. Early Bitcoin supporter Roger Ver said: \"At first, almost everyone who got involved did so </span>\n",
       "<span style=\"color: #c0c0c0; text-decoration-color: #c0c0c0\">for philosophical reasons. We saw Bitcoin as a...</span>\n",
       "<span style=\"color: #c0c0c0; text-decoration-color: #c0c0c0\"> </span>       <span style=\"color: #008000; text-decoration-color: #008000; font-weight: bold\">204</span><span style=\"color: #008000; text-decoration-color: #008000\"> KB </span><span style=\"color: #008000; text-decoration-color: #008000; font-weight: bold\">(</span><span style=\"color: #008000; text-decoration-color: #008000; font-weight: bold\">18</span><span style=\"color: #008000; text-decoration-color: #008000\">,</span><span style=\"color: #008000; text-decoration-color: #008000; font-weight: bold\">432</span><span style=\"color: #008000; text-decoration-color: #008000\"> words</span><span style=\"color: #008000; text-decoration-color: #008000; font-weight: bold\">)</span><span style=\"color: #008000; text-decoration-color: #008000\"> - </span><span style=\"color: #008000; text-decoration-color: #008000; font-weight: bold\">14:35</span><span style=\"color: #008000; text-decoration-color: #008000\">, </span><span style=\"color: #008000; text-decoration-color: #008000; font-weight: bold\">13</span><span style=\"color: #008000; text-decoration-color: #008000\"> March </span><span style=\"color: #008000; text-decoration-color: #008000; font-weight: bold\">2024</span>\n",
       "\n",
       "</pre>\n"
      ],
      "text/plain": [
       "\u001b[1;34m6\u001b[0m\u001b[34m \u001b[0m      \u001b[34mCryptocurrency\u001b[0m\n",
       "\u001b[34m \u001b[0m       \u001b[37mbehind Bitcoin. Early Bitcoin supporter Roger Ver said: \"At first, almost everyone who got involved did so \u001b[0m\n",
       "\u001b[37mfor philosophical reasons. We saw Bitcoin as a\u001b[0m\u001b[37m...\u001b[0m\n",
       "\u001b[37m \u001b[0m       \u001b[1;32m204\u001b[0m\u001b[32m KB \u001b[0m\u001b[1;32m(\u001b[0m\u001b[1;32m18\u001b[0m\u001b[32m,\u001b[0m\u001b[1;32m432\u001b[0m\u001b[32m words\u001b[0m\u001b[1;32m)\u001b[0m\u001b[32m - \u001b[0m\u001b[1;32m14:35\u001b[0m\u001b[32m, \u001b[0m\u001b[1;32m13\u001b[0m\u001b[32m March \u001b[0m\u001b[1;32m2024\u001b[0m\n",
       "\n"
      ]
     },
     "metadata": {},
     "output_type": "display_data"
    },
    {
     "data": {
      "text/html": [
       "<pre style=\"white-space:pre;overflow-x:auto;line-height:normal;font-family:Menlo,'DejaVu Sans Mono',consolas,'Courier New',monospace\"><span style=\"color: #000080; text-decoration-color: #000080; font-weight: bold\">7</span><span style=\"color: #000080; text-decoration-color: #000080\"> </span>      <span style=\"color: #000080; text-decoration-color: #000080\">Bitcoin in El Salvador</span>\n",
       "<span style=\"color: #000080; text-decoration-color: #000080\"> </span>       <span style=\"color: #c0c0c0; text-decoration-color: #c0c0c0\">El Salvador became the first country in the world to use bitcoin as legal tender, after having been adopted</span>\n",
       "<span style=\"color: #c0c0c0; text-decoration-color: #c0c0c0\">as such by the Legislative Assembly of El...</span>\n",
       "<span style=\"color: #c0c0c0; text-decoration-color: #c0c0c0\"> </span>       <span style=\"color: #008000; text-decoration-color: #008000; font-weight: bold\">38</span><span style=\"color: #008000; text-decoration-color: #008000\"> KB </span><span style=\"color: #008000; text-decoration-color: #008000; font-weight: bold\">(</span><span style=\"color: #008000; text-decoration-color: #008000; font-weight: bold\">3</span><span style=\"color: #008000; text-decoration-color: #008000\">,</span><span style=\"color: #008000; text-decoration-color: #008000; font-weight: bold\">931</span><span style=\"color: #008000; text-decoration-color: #008000\"> words</span><span style=\"color: #008000; text-decoration-color: #008000; font-weight: bold\">)</span><span style=\"color: #008000; text-decoration-color: #008000\"> - </span><span style=\"color: #008000; text-decoration-color: #008000; font-weight: bold\">17:39</span><span style=\"color: #008000; text-decoration-color: #008000\">, </span><span style=\"color: #008000; text-decoration-color: #008000; font-weight: bold\">16</span><span style=\"color: #008000; text-decoration-color: #008000\"> March </span><span style=\"color: #008000; text-decoration-color: #008000; font-weight: bold\">2024</span>\n",
       "\n",
       "</pre>\n"
      ],
      "text/plain": [
       "\u001b[1;34m7\u001b[0m\u001b[34m \u001b[0m      \u001b[34mBitcoin in El Salvador\u001b[0m\n",
       "\u001b[34m \u001b[0m       \u001b[37mEl Salvador became the first country in the world to use bitcoin as legal tender, after having been adopted\u001b[0m\n",
       "\u001b[37mas such by the Legislative Assembly of El\u001b[0m\u001b[37m...\u001b[0m\n",
       "\u001b[37m \u001b[0m       \u001b[1;32m38\u001b[0m\u001b[32m KB \u001b[0m\u001b[1;32m(\u001b[0m\u001b[1;32m3\u001b[0m\u001b[32m,\u001b[0m\u001b[1;32m931\u001b[0m\u001b[32m words\u001b[0m\u001b[1;32m)\u001b[0m\u001b[32m - \u001b[0m\u001b[1;32m17:39\u001b[0m\u001b[32m, \u001b[0m\u001b[1;32m16\u001b[0m\u001b[32m March \u001b[0m\u001b[1;32m2024\u001b[0m\n",
       "\n"
      ]
     },
     "metadata": {},
     "output_type": "display_data"
    },
    {
     "data": {
      "text/html": [
       "<pre style=\"white-space:pre;overflow-x:auto;line-height:normal;font-family:Menlo,'DejaVu Sans Mono',consolas,'Courier New',monospace\"><span style=\"color: #000080; text-decoration-color: #000080; font-weight: bold\">8</span><span style=\"color: #000080; text-decoration-color: #000080\"> </span>      <span style=\"color: #000080; text-decoration-color: #000080\">Satoshi Nakamoto </span><span style=\"color: #000080; text-decoration-color: #000080; font-weight: bold\">(</span><span style=\"color: #000080; text-decoration-color: #000080\">category People associated with Bitcoin</span><span style=\"color: #000080; text-decoration-color: #000080; font-weight: bold\">)</span>\n",
       "<span style=\"color: #000080; text-decoration-color: #000080\"> </span>       <span style=\"color: #c0c0c0; text-decoration-color: #c0c0c0\">pseudonymous person or persons who developed Bitcoin, authored the bitcoin white paper, and created and </span>\n",
       "<span style=\"color: #c0c0c0; text-decoration-color: #c0c0c0\">deployed bitcoin's original reference implementation. As...</span>\n",
       "<span style=\"color: #c0c0c0; text-decoration-color: #c0c0c0\"> </span>       <span style=\"color: #008000; text-decoration-color: #008000; font-weight: bold\">47</span><span style=\"color: #008000; text-decoration-color: #008000\"> KB </span><span style=\"color: #008000; text-decoration-color: #008000; font-weight: bold\">(</span><span style=\"color: #008000; text-decoration-color: #008000; font-weight: bold\">4</span><span style=\"color: #008000; text-decoration-color: #008000\">,</span><span style=\"color: #008000; text-decoration-color: #008000; font-weight: bold\">166</span><span style=\"color: #008000; text-decoration-color: #008000\"> words</span><span style=\"color: #008000; text-decoration-color: #008000; font-weight: bold\">)</span><span style=\"color: #008000; text-decoration-color: #008000\"> - </span><span style=\"color: #008000; text-decoration-color: #008000; font-weight: bold\">04:10</span><span style=\"color: #008000; text-decoration-color: #008000\">, </span><span style=\"color: #008000; text-decoration-color: #008000; font-weight: bold\">16</span><span style=\"color: #008000; text-decoration-color: #008000\"> March </span><span style=\"color: #008000; text-decoration-color: #008000; font-weight: bold\">2024</span>\n",
       "\n",
       "</pre>\n"
      ],
      "text/plain": [
       "\u001b[1;34m8\u001b[0m\u001b[34m \u001b[0m      \u001b[34mSatoshi Nakamoto \u001b[0m\u001b[1;34m(\u001b[0m\u001b[34mcategory People associated with Bitcoin\u001b[0m\u001b[1;34m)\u001b[0m\n",
       "\u001b[34m \u001b[0m       \u001b[37mpseudonymous person or persons who developed Bitcoin, authored the bitcoin white paper, and created and \u001b[0m\n",
       "\u001b[37mdeployed bitcoin's original reference implementation. As\u001b[0m\u001b[37m...\u001b[0m\n",
       "\u001b[37m \u001b[0m       \u001b[1;32m47\u001b[0m\u001b[32m KB \u001b[0m\u001b[1;32m(\u001b[0m\u001b[1;32m4\u001b[0m\u001b[32m,\u001b[0m\u001b[1;32m166\u001b[0m\u001b[32m words\u001b[0m\u001b[1;32m)\u001b[0m\u001b[32m - \u001b[0m\u001b[1;32m04:10\u001b[0m\u001b[32m, \u001b[0m\u001b[1;32m16\u001b[0m\u001b[32m March \u001b[0m\u001b[1;32m2024\u001b[0m\n",
       "\n"
      ]
     },
     "metadata": {},
     "output_type": "display_data"
    },
    {
     "data": {
      "text/html": [
       "<pre style=\"white-space:pre;overflow-x:auto;line-height:normal;font-family:Menlo,'DejaVu Sans Mono',consolas,'Courier New',monospace\"><span style=\"color: #000080; text-decoration-color: #000080; font-weight: bold\">9</span><span style=\"color: #000080; text-decoration-color: #000080\"> </span>      <span style=\"color: #000080; text-decoration-color: #000080\">Silk Road </span><span style=\"color: #000080; text-decoration-color: #000080; font-weight: bold\">(</span><span style=\"color: #000080; text-decoration-color: #000080\">marketplace</span><span style=\"color: #000080; text-decoration-color: #000080; font-weight: bold\">)</span><span style=\"color: #000080; text-decoration-color: #000080\"> </span><span style=\"color: #000080; text-decoration-color: #000080; font-weight: bold\">(</span><span style=\"color: #000080; text-decoration-color: #000080\">redirect from United States v. Approximately </span><span style=\"color: #000080; text-decoration-color: #000080; font-weight: bold\">69</span><span style=\"color: #000080; text-decoration-color: #000080\">,</span><span style=\"color: #000080; text-decoration-color: #000080; font-weight: bold\">370</span><span style=\"color: #000080; text-decoration-color: #000080\"> Bitcoin </span><span style=\"color: #000080; text-decoration-color: #000080; font-weight: bold\">(</span><span style=\"color: #000080; text-decoration-color: #000080\">BTC</span><span style=\"color: #000080; text-decoration-color: #000080; font-weight: bold\">)</span><span style=\"color: #000080; text-decoration-color: #000080\">, Bitcoin Gold </span>\n",
       "<span style=\"color: #000080; text-decoration-color: #000080; font-weight: bold\">(</span><span style=\"color: #000080; text-decoration-color: #000080\">BTG</span><span style=\"color: #000080; text-decoration-color: #000080; font-weight: bold\">)</span><span style=\"color: #000080; text-decoration-color: #000080\">, Bitcoin SV </span><span style=\"color: #000080; text-decoration-color: #000080; font-weight: bold\">(</span><span style=\"color: #000080; text-decoration-color: #000080\">BSV</span><span style=\"color: #000080; text-decoration-color: #000080; font-weight: bold\">)</span><span style=\"color: #000080; text-decoration-color: #000080\">, and Bitcoin Cash </span><span style=\"color: #000080; text-decoration-color: #000080; font-weight: bold\">(</span><span style=\"color: #000080; text-decoration-color: #000080\">BCH</span><span style=\"color: #000080; text-decoration-color: #000080; font-weight: bold\">)</span><span style=\"color: #000080; text-decoration-color: #000080\"> seized from 1HQ3Go3ggs8pFnXuHVHRytPCq5fGG8Hbhx</span><span style=\"color: #000080; text-decoration-color: #000080; font-weight: bold\">)</span>\n",
       "<span style=\"color: #000080; text-decoration-color: #000080\"> </span>       <span style=\"color: #c0c0c0; text-decoration-color: #c0c0c0\">services between each other anonymously. All transactions were conducted with bitcoin, a cryptocurrency </span>\n",
       "<span style=\"color: #c0c0c0; text-decoration-color: #c0c0c0\">which aided in protecting user identities. The website...</span>\n",
       "<span style=\"color: #c0c0c0; text-decoration-color: #c0c0c0\"> </span>       <span style=\"color: #008000; text-decoration-color: #008000; font-weight: bold\">80</span><span style=\"color: #008000; text-decoration-color: #008000\"> KB </span><span style=\"color: #008000; text-decoration-color: #008000; font-weight: bold\">(</span><span style=\"color: #008000; text-decoration-color: #008000; font-weight: bold\">7</span><span style=\"color: #008000; text-decoration-color: #008000\">,</span><span style=\"color: #008000; text-decoration-color: #008000; font-weight: bold\">022</span><span style=\"color: #008000; text-decoration-color: #008000\"> words</span><span style=\"color: #008000; text-decoration-color: #008000; font-weight: bold\">)</span><span style=\"color: #008000; text-decoration-color: #008000\"> - </span><span style=\"color: #008000; text-decoration-color: #008000; font-weight: bold\">04:04</span><span style=\"color: #008000; text-decoration-color: #008000\">, </span><span style=\"color: #008000; text-decoration-color: #008000; font-weight: bold\">17</span><span style=\"color: #008000; text-decoration-color: #008000\"> March </span><span style=\"color: #008000; text-decoration-color: #008000; font-weight: bold\">2024</span>\n",
       "\n",
       "</pre>\n"
      ],
      "text/plain": [
       "\u001b[1;34m9\u001b[0m\u001b[34m \u001b[0m      \u001b[34mSilk Road \u001b[0m\u001b[1;34m(\u001b[0m\u001b[34mmarketplace\u001b[0m\u001b[1;34m)\u001b[0m\u001b[34m \u001b[0m\u001b[1;34m(\u001b[0m\u001b[34mredirect from United States v. Approximately \u001b[0m\u001b[1;34m69\u001b[0m\u001b[34m,\u001b[0m\u001b[1;34m370\u001b[0m\u001b[34m Bitcoin \u001b[0m\u001b[1;34m(\u001b[0m\u001b[34mBTC\u001b[0m\u001b[1;34m)\u001b[0m\u001b[34m, Bitcoin Gold \u001b[0m\n",
       "\u001b[1;34m(\u001b[0m\u001b[34mBTG\u001b[0m\u001b[1;34m)\u001b[0m\u001b[34m, Bitcoin SV \u001b[0m\u001b[1;34m(\u001b[0m\u001b[34mBSV\u001b[0m\u001b[1;34m)\u001b[0m\u001b[34m, and Bitcoin Cash \u001b[0m\u001b[1;34m(\u001b[0m\u001b[34mBCH\u001b[0m\u001b[1;34m)\u001b[0m\u001b[34m seized from 1HQ3Go3ggs8pFnXuHVHRytPCq5fGG8Hbhx\u001b[0m\u001b[1;34m)\u001b[0m\n",
       "\u001b[34m \u001b[0m       \u001b[37mservices between each other anonymously. All transactions were conducted with bitcoin, a cryptocurrency \u001b[0m\n",
       "\u001b[37mwhich aided in protecting user identities. The website\u001b[0m\u001b[37m...\u001b[0m\n",
       "\u001b[37m \u001b[0m       \u001b[1;32m80\u001b[0m\u001b[32m KB \u001b[0m\u001b[1;32m(\u001b[0m\u001b[1;32m7\u001b[0m\u001b[32m,\u001b[0m\u001b[1;32m022\u001b[0m\u001b[32m words\u001b[0m\u001b[1;32m)\u001b[0m\u001b[32m - \u001b[0m\u001b[1;32m04:04\u001b[0m\u001b[32m, \u001b[0m\u001b[1;32m17\u001b[0m\u001b[32m March \u001b[0m\u001b[1;32m2024\u001b[0m\n",
       "\n"
      ]
     },
     "metadata": {},
     "output_type": "display_data"
    },
    {
     "data": {
      "text/html": [
       "<pre style=\"white-space:pre;overflow-x:auto;line-height:normal;font-family:Menlo,'DejaVu Sans Mono',consolas,'Courier New',monospace\"><span style=\"color: #000080; text-decoration-color: #000080; font-weight: bold\">10</span><span style=\"color: #000080; text-decoration-color: #000080\"> </span>     <span style=\"color: #000080; text-decoration-color: #000080\">Bitcoin Core</span>\n",
       "<span style=\"color: #000080; text-decoration-color: #000080\"> </span>       <span style=\"color: #c0c0c0; text-decoration-color: #c0c0c0\">Bitcoin Core is free and open-source software that serves as a bitcoin node </span><span style=\"color: #c0c0c0; text-decoration-color: #c0c0c0; font-weight: bold\">(</span><span style=\"color: #c0c0c0; text-decoration-color: #c0c0c0\">the set of which form the </span>\n",
       "<span style=\"color: #c0c0c0; text-decoration-color: #c0c0c0\">Bitcoin network</span><span style=\"color: #c0c0c0; text-decoration-color: #c0c0c0; font-weight: bold\">)</span><span style=\"color: #c0c0c0; text-decoration-color: #c0c0c0\"> and provides a bitcoin wallet which...</span>\n",
       "<span style=\"color: #c0c0c0; text-decoration-color: #c0c0c0\"> </span>       <span style=\"color: #008000; text-decoration-color: #008000; font-weight: bold\">7</span><span style=\"color: #008000; text-decoration-color: #008000\"> KB </span><span style=\"color: #008000; text-decoration-color: #008000; font-weight: bold\">(</span><span style=\"color: #008000; text-decoration-color: #008000; font-weight: bold\">665</span><span style=\"color: #008000; text-decoration-color: #008000\"> words</span><span style=\"color: #008000; text-decoration-color: #008000; font-weight: bold\">)</span><span style=\"color: #008000; text-decoration-color: #008000\"> - </span><span style=\"color: #008000; text-decoration-color: #008000; font-weight: bold\">18:19</span><span style=\"color: #008000; text-decoration-color: #008000\">, </span><span style=\"color: #008000; text-decoration-color: #008000; font-weight: bold\">22</span><span style=\"color: #008000; text-decoration-color: #008000\"> February </span><span style=\"color: #008000; text-decoration-color: #008000; font-weight: bold\">2024</span>\n",
       "\n",
       "</pre>\n"
      ],
      "text/plain": [
       "\u001b[1;34m10\u001b[0m\u001b[34m \u001b[0m     \u001b[34mBitcoin Core\u001b[0m\n",
       "\u001b[34m \u001b[0m       \u001b[37mBitcoin Core is free and open-source software that serves as a bitcoin node \u001b[0m\u001b[1;37m(\u001b[0m\u001b[37mthe set of which form the \u001b[0m\n",
       "\u001b[37mBitcoin network\u001b[0m\u001b[1;37m)\u001b[0m\u001b[37m and provides a bitcoin wallet which\u001b[0m\u001b[37m...\u001b[0m\n",
       "\u001b[37m \u001b[0m       \u001b[1;32m7\u001b[0m\u001b[32m KB \u001b[0m\u001b[1;32m(\u001b[0m\u001b[1;32m665\u001b[0m\u001b[32m words\u001b[0m\u001b[1;32m)\u001b[0m\u001b[32m - \u001b[0m\u001b[1;32m18:19\u001b[0m\u001b[32m, \u001b[0m\u001b[1;32m22\u001b[0m\u001b[32m February \u001b[0m\u001b[1;32m2024\u001b[0m\n",
       "\n"
      ]
     },
     "metadata": {},
     "output_type": "display_data"
    },
    {
     "data": {
      "text/html": [
       "<pre style=\"white-space:pre;overflow-x:auto;line-height:normal;font-family:Menlo,'DejaVu Sans Mono',consolas,'Courier New',monospace\"><span style=\"color: #000080; text-decoration-color: #000080; font-weight: bold\">11</span><span style=\"color: #000080; text-decoration-color: #000080\"> </span>     <span style=\"color: #000080; text-decoration-color: #000080\">Dark web </span><span style=\"color: #000080; text-decoration-color: #000080; font-weight: bold\">(</span><span style=\"color: #000080; text-decoration-color: #000080\">redirect from Bitcoin services on the dark web</span><span style=\"color: #000080; text-decoration-color: #000080; font-weight: bold\">)</span>\n",
       "<span style=\"color: #000080; text-decoration-color: #000080\"> </span>       <span style=\"color: #c0c0c0; text-decoration-color: #c0c0c0\">Bitcoin is one of the main cryptocurrencies used in dark web marketplaces due to the flexibility and </span>\n",
       "<span style=\"color: #c0c0c0; text-decoration-color: #c0c0c0\">relative anonymity of the currency. With Bitcoin...</span>\n",
       "<span style=\"color: #c0c0c0; text-decoration-color: #c0c0c0\"> </span>       <span style=\"color: #008000; text-decoration-color: #008000; font-weight: bold\">56</span><span style=\"color: #008000; text-decoration-color: #008000\"> KB </span><span style=\"color: #008000; text-decoration-color: #008000; font-weight: bold\">(</span><span style=\"color: #008000; text-decoration-color: #008000; font-weight: bold\">5</span><span style=\"color: #008000; text-decoration-color: #008000\">,</span><span style=\"color: #008000; text-decoration-color: #008000; font-weight: bold\">183</span><span style=\"color: #008000; text-decoration-color: #008000\"> words</span><span style=\"color: #008000; text-decoration-color: #008000; font-weight: bold\">)</span><span style=\"color: #008000; text-decoration-color: #008000\"> - </span><span style=\"color: #008000; text-decoration-color: #008000; font-weight: bold\">22:41</span><span style=\"color: #008000; text-decoration-color: #008000\">, </span><span style=\"color: #008000; text-decoration-color: #008000; font-weight: bold\">1</span><span style=\"color: #008000; text-decoration-color: #008000\"> March </span><span style=\"color: #008000; text-decoration-color: #008000; font-weight: bold\">2024</span>\n",
       "\n",
       "</pre>\n"
      ],
      "text/plain": [
       "\u001b[1;34m11\u001b[0m\u001b[34m \u001b[0m     \u001b[34mDark web \u001b[0m\u001b[1;34m(\u001b[0m\u001b[34mredirect from Bitcoin services on the dark web\u001b[0m\u001b[1;34m)\u001b[0m\n",
       "\u001b[34m \u001b[0m       \u001b[37mBitcoin is one of the main cryptocurrencies used in dark web marketplaces due to the flexibility and \u001b[0m\n",
       "\u001b[37mrelative anonymity of the currency. With Bitcoin\u001b[0m\u001b[37m...\u001b[0m\n",
       "\u001b[37m \u001b[0m       \u001b[1;32m56\u001b[0m\u001b[32m KB \u001b[0m\u001b[1;32m(\u001b[0m\u001b[1;32m5\u001b[0m\u001b[32m,\u001b[0m\u001b[1;32m183\u001b[0m\u001b[32m words\u001b[0m\u001b[1;32m)\u001b[0m\u001b[32m - \u001b[0m\u001b[1;32m22:41\u001b[0m\u001b[32m, \u001b[0m\u001b[1;32m1\u001b[0m\u001b[32m March \u001b[0m\u001b[1;32m2024\u001b[0m\n",
       "\n"
      ]
     },
     "metadata": {},
     "output_type": "display_data"
    },
    {
     "data": {
      "text/html": [
       "<pre style=\"white-space:pre;overflow-x:auto;line-height:normal;font-family:Menlo,'DejaVu Sans Mono',consolas,'Courier New',monospace\"><span style=\"color: #000080; text-decoration-color: #000080; font-weight: bold\">12</span><span style=\"color: #000080; text-decoration-color: #000080\"> </span>     <span style=\"color: #000080; text-decoration-color: #000080\">Litecoin </span><span style=\"color: #000080; text-decoration-color: #000080; font-weight: bold\">(</span><span style=\"color: #000080; text-decoration-color: #000080\">section Differences from Bitcoin</span><span style=\"color: #000080; text-decoration-color: #000080; font-weight: bold\">)</span>\n",
       "<span style=\"color: #000080; text-decoration-color: #000080\"> </span>       <span style=\"color: #c0c0c0; text-decoration-color: #c0c0c0\">open-source software project released under the MIT/X11 license. Inspired by Bitcoin, Litecoin was among </span>\n",
       "<span style=\"color: #c0c0c0; text-decoration-color: #c0c0c0\">the earliest altcoins, starting in October </span><span style=\"color: #c0c0c0; text-decoration-color: #c0c0c0; font-weight: bold\">2011</span><span style=\"color: #c0c0c0; text-decoration-color: #c0c0c0\">. In...</span>\n",
       "<span style=\"color: #c0c0c0; text-decoration-color: #c0c0c0\"> </span>       <span style=\"color: #008000; text-decoration-color: #008000; font-weight: bold\">20</span><span style=\"color: #008000; text-decoration-color: #008000\"> KB </span><span style=\"color: #008000; text-decoration-color: #008000; font-weight: bold\">(</span><span style=\"color: #008000; text-decoration-color: #008000; font-weight: bold\">1</span><span style=\"color: #008000; text-decoration-color: #008000\">,</span><span style=\"color: #008000; text-decoration-color: #008000; font-weight: bold\">779</span><span style=\"color: #008000; text-decoration-color: #008000\"> words</span><span style=\"color: #008000; text-decoration-color: #008000; font-weight: bold\">)</span><span style=\"color: #008000; text-decoration-color: #008000\"> - </span><span style=\"color: #008000; text-decoration-color: #008000; font-weight: bold\">11:46</span><span style=\"color: #008000; text-decoration-color: #008000\">, </span><span style=\"color: #008000; text-decoration-color: #008000; font-weight: bold\">16</span><span style=\"color: #008000; text-decoration-color: #008000\"> March </span><span style=\"color: #008000; text-decoration-color: #008000; font-weight: bold\">2024</span>\n",
       "\n",
       "</pre>\n"
      ],
      "text/plain": [
       "\u001b[1;34m12\u001b[0m\u001b[34m \u001b[0m     \u001b[34mLitecoin \u001b[0m\u001b[1;34m(\u001b[0m\u001b[34msection Differences from Bitcoin\u001b[0m\u001b[1;34m)\u001b[0m\n",
       "\u001b[34m \u001b[0m       \u001b[37mopen-source software project released under the MIT/X11 license. Inspired by Bitcoin, Litecoin was among \u001b[0m\n",
       "\u001b[37mthe earliest altcoins, starting in October \u001b[0m\u001b[1;37m2011\u001b[0m\u001b[37m. In\u001b[0m\u001b[37m...\u001b[0m\n",
       "\u001b[37m \u001b[0m       \u001b[1;32m20\u001b[0m\u001b[32m KB \u001b[0m\u001b[1;32m(\u001b[0m\u001b[1;32m1\u001b[0m\u001b[32m,\u001b[0m\u001b[1;32m779\u001b[0m\u001b[32m words\u001b[0m\u001b[1;32m)\u001b[0m\u001b[32m - \u001b[0m\u001b[1;32m11:46\u001b[0m\u001b[32m, \u001b[0m\u001b[1;32m16\u001b[0m\u001b[32m March \u001b[0m\u001b[1;32m2024\u001b[0m\n",
       "\n"
      ]
     },
     "metadata": {},
     "output_type": "display_data"
    },
    {
     "data": {
      "text/html": [
       "<pre style=\"white-space:pre;overflow-x:auto;line-height:normal;font-family:Menlo,'DejaVu Sans Mono',consolas,'Courier New',monospace\"><span style=\"color: #000080; text-decoration-color: #000080; font-weight: bold\">13</span><span style=\"color: #000080; text-decoration-color: #000080\"> </span>     <span style=\"color: #000080; text-decoration-color: #000080\">Double-spending </span><span style=\"color: #000080; text-decoration-color: #000080; font-weight: bold\">(</span><span style=\"color: #000080; text-decoration-color: #000080\">redirect from Bitcoin Gold Double Spend Attack</span><span style=\"color: #000080; text-decoration-color: #000080; font-weight: bold\">)</span>\n",
       "<span style=\"color: #000080; text-decoration-color: #000080\"> </span>       <span style=\"color: #c0c0c0; text-decoration-color: #c0c0c0\">the entire history of bitcoin transactions as well as the new set of incoming transactions. The miner is </span>\n",
       "<span style=\"color: #c0c0c0; text-decoration-color: #c0c0c0\">rewarded some bitcoins for solving it. The double-spending...</span>\n",
       "<span style=\"color: #c0c0c0; text-decoration-color: #c0c0c0\"> </span>       <span style=\"color: #008000; text-decoration-color: #008000; font-weight: bold\">9</span><span style=\"color: #008000; text-decoration-color: #008000\"> KB </span><span style=\"color: #008000; text-decoration-color: #008000; font-weight: bold\">(</span><span style=\"color: #008000; text-decoration-color: #008000; font-weight: bold\">1</span><span style=\"color: #008000; text-decoration-color: #008000\">,</span><span style=\"color: #008000; text-decoration-color: #008000; font-weight: bold\">018</span><span style=\"color: #008000; text-decoration-color: #008000\"> words</span><span style=\"color: #008000; text-decoration-color: #008000; font-weight: bold\">)</span><span style=\"color: #008000; text-decoration-color: #008000\"> - </span><span style=\"color: #008000; text-decoration-color: #008000; font-weight: bold\">19:31</span><span style=\"color: #008000; text-decoration-color: #008000\">, </span><span style=\"color: #008000; text-decoration-color: #008000; font-weight: bold\">7</span><span style=\"color: #008000; text-decoration-color: #008000\"> December </span><span style=\"color: #008000; text-decoration-color: #008000; font-weight: bold\">2023</span>\n",
       "\n",
       "</pre>\n"
      ],
      "text/plain": [
       "\u001b[1;34m13\u001b[0m\u001b[34m \u001b[0m     \u001b[34mDouble-spending \u001b[0m\u001b[1;34m(\u001b[0m\u001b[34mredirect from Bitcoin Gold Double Spend Attack\u001b[0m\u001b[1;34m)\u001b[0m\n",
       "\u001b[34m \u001b[0m       \u001b[37mthe entire history of bitcoin transactions as well as the new set of incoming transactions. The miner is \u001b[0m\n",
       "\u001b[37mrewarded some bitcoins for solving it. The double-spending\u001b[0m\u001b[37m...\u001b[0m\n",
       "\u001b[37m \u001b[0m       \u001b[1;32m9\u001b[0m\u001b[32m KB \u001b[0m\u001b[1;32m(\u001b[0m\u001b[1;32m1\u001b[0m\u001b[32m,\u001b[0m\u001b[1;32m018\u001b[0m\u001b[32m words\u001b[0m\u001b[1;32m)\u001b[0m\u001b[32m - \u001b[0m\u001b[1;32m19:31\u001b[0m\u001b[32m, \u001b[0m\u001b[1;32m7\u001b[0m\u001b[32m December \u001b[0m\u001b[1;32m2023\u001b[0m\n",
       "\n"
      ]
     },
     "metadata": {},
     "output_type": "display_data"
    },
    {
     "data": {
      "text/html": [
       "<pre style=\"white-space:pre;overflow-x:auto;line-height:normal;font-family:Menlo,'DejaVu Sans Mono',consolas,'Courier New',monospace\"><span style=\"color: #000080; text-decoration-color: #000080; font-weight: bold\">14</span><span style=\"color: #000080; text-decoration-color: #000080\"> </span>     <span style=\"color: #000080; text-decoration-color: #000080\">List of bitcoin forks</span>\n",
       "<span style=\"color: #000080; text-decoration-color: #000080\"> </span>       <span style=\"color: #c0c0c0; text-decoration-color: #c0c0c0\">Bitcoin forks are defined variantly as changes in the protocol of the bitcoin network or as the situations </span>\n",
       "<span style=\"color: #c0c0c0; text-decoration-color: #c0c0c0\">that occur \"when two or more blocks have the...</span>\n",
       "<span style=\"color: #c0c0c0; text-decoration-color: #c0c0c0\"> </span>       <span style=\"color: #008000; text-decoration-color: #008000; font-weight: bold\">11</span><span style=\"color: #008000; text-decoration-color: #008000\"> KB </span><span style=\"color: #008000; text-decoration-color: #008000; font-weight: bold\">(</span><span style=\"color: #008000; text-decoration-color: #008000; font-weight: bold\">1</span><span style=\"color: #008000; text-decoration-color: #008000\">,</span><span style=\"color: #008000; text-decoration-color: #008000; font-weight: bold\">106</span><span style=\"color: #008000; text-decoration-color: #008000\"> words</span><span style=\"color: #008000; text-decoration-color: #008000; font-weight: bold\">)</span><span style=\"color: #008000; text-decoration-color: #008000\"> - </span><span style=\"color: #008000; text-decoration-color: #008000; font-weight: bold\">01:15</span><span style=\"color: #008000; text-decoration-color: #008000\">, </span><span style=\"color: #008000; text-decoration-color: #008000; font-weight: bold\">29</span><span style=\"color: #008000; text-decoration-color: #008000\"> March </span><span style=\"color: #008000; text-decoration-color: #008000; font-weight: bold\">2023</span>\n",
       "\n",
       "</pre>\n"
      ],
      "text/plain": [
       "\u001b[1;34m14\u001b[0m\u001b[34m \u001b[0m     \u001b[34mList of bitcoin forks\u001b[0m\n",
       "\u001b[34m \u001b[0m       \u001b[37mBitcoin forks are defined variantly as changes in the protocol of the bitcoin network or as the situations \u001b[0m\n",
       "\u001b[37mthat occur \"when two or more blocks have the\u001b[0m\u001b[37m...\u001b[0m\n",
       "\u001b[37m \u001b[0m       \u001b[1;32m11\u001b[0m\u001b[32m KB \u001b[0m\u001b[1;32m(\u001b[0m\u001b[1;32m1\u001b[0m\u001b[32m,\u001b[0m\u001b[1;32m106\u001b[0m\u001b[32m words\u001b[0m\u001b[1;32m)\u001b[0m\u001b[32m - \u001b[0m\u001b[1;32m01:15\u001b[0m\u001b[32m, \u001b[0m\u001b[1;32m29\u001b[0m\u001b[32m March \u001b[0m\u001b[1;32m2023\u001b[0m\n",
       "\n"
      ]
     },
     "metadata": {},
     "output_type": "display_data"
    },
    {
     "data": {
      "text/html": [
       "<pre style=\"white-space:pre;overflow-x:auto;line-height:normal;font-family:Menlo,'DejaVu Sans Mono',consolas,'Courier New',monospace\"><span style=\"color: #000080; text-decoration-color: #000080; font-weight: bold\">15</span><span style=\"color: #000080; text-decoration-color: #000080\"> </span>     <span style=\"color: #000080; text-decoration-color: #000080\">Blockchain </span><span style=\"color: #000080; text-decoration-color: #000080; font-weight: bold\">(</span><span style=\"color: #000080; text-decoration-color: #000080\">category Bitcoin</span><span style=\"color: #000080; text-decoration-color: #000080; font-weight: bold\">)</span>\n",
       "<span style=\"color: #000080; text-decoration-color: #000080\"> </span>       <span style=\"color: #c0c0c0; text-decoration-color: #c0c0c0\">Satoshi Nakamoto in </span><span style=\"color: #c0c0c0; text-decoration-color: #c0c0c0; font-weight: bold\">2008</span><span style=\"color: #c0c0c0; text-decoration-color: #c0c0c0\"> to serve as the public distributed ledger for bitcoin cryptocurrency transactions,</span>\n",
       "<span style=\"color: #c0c0c0; text-decoration-color: #c0c0c0\">based on previous work by Stuart Haber, W...</span>\n",
       "<span style=\"color: #c0c0c0; text-decoration-color: #c0c0c0\"> </span>       <span style=\"color: #008000; text-decoration-color: #008000; font-weight: bold\">120</span><span style=\"color: #008000; text-decoration-color: #008000\"> KB </span><span style=\"color: #008000; text-decoration-color: #008000; font-weight: bold\">(</span><span style=\"color: #008000; text-decoration-color: #008000; font-weight: bold\">11</span><span style=\"color: #008000; text-decoration-color: #008000\">,</span><span style=\"color: #008000; text-decoration-color: #008000; font-weight: bold\">943</span><span style=\"color: #008000; text-decoration-color: #008000\"> words</span><span style=\"color: #008000; text-decoration-color: #008000; font-weight: bold\">)</span><span style=\"color: #008000; text-decoration-color: #008000\"> - </span><span style=\"color: #008000; text-decoration-color: #008000; font-weight: bold\">13:45</span><span style=\"color: #008000; text-decoration-color: #008000\">, </span><span style=\"color: #008000; text-decoration-color: #008000; font-weight: bold\">1</span><span style=\"color: #008000; text-decoration-color: #008000\"> March </span><span style=\"color: #008000; text-decoration-color: #008000; font-weight: bold\">2024</span>\n",
       "\n",
       "</pre>\n"
      ],
      "text/plain": [
       "\u001b[1;34m15\u001b[0m\u001b[34m \u001b[0m     \u001b[34mBlockchain \u001b[0m\u001b[1;34m(\u001b[0m\u001b[34mcategory Bitcoin\u001b[0m\u001b[1;34m)\u001b[0m\n",
       "\u001b[34m \u001b[0m       \u001b[37mSatoshi Nakamoto in \u001b[0m\u001b[1;37m2008\u001b[0m\u001b[37m to serve as the public distributed ledger for bitcoin cryptocurrency transactions,\u001b[0m\n",
       "\u001b[37mbased on previous work by Stuart Haber, W\u001b[0m\u001b[37m...\u001b[0m\n",
       "\u001b[37m \u001b[0m       \u001b[1;32m120\u001b[0m\u001b[32m KB \u001b[0m\u001b[1;32m(\u001b[0m\u001b[1;32m11\u001b[0m\u001b[32m,\u001b[0m\u001b[1;32m943\u001b[0m\u001b[32m words\u001b[0m\u001b[1;32m)\u001b[0m\u001b[32m - \u001b[0m\u001b[1;32m13:45\u001b[0m\u001b[32m, \u001b[0m\u001b[1;32m1\u001b[0m\u001b[32m March \u001b[0m\u001b[1;32m2024\u001b[0m\n",
       "\n"
      ]
     },
     "metadata": {},
     "output_type": "display_data"
    },
    {
     "data": {
      "text/html": [
       "<pre style=\"white-space:pre;overflow-x:auto;line-height:normal;font-family:Menlo,'DejaVu Sans Mono',consolas,'Courier New',monospace\"><span style=\"color: #000080; text-decoration-color: #000080; font-weight: bold\">16</span><span style=\"color: #000080; text-decoration-color: #000080\"> </span>     <span style=\"color: #000080; text-decoration-color: #000080\">Economics of bitcoin</span>\n",
       "<span style=\"color: #000080; text-decoration-color: #000080\"> </span>       <span style=\"color: #c0c0c0; text-decoration-color: #c0c0c0\">Bitcoin was designed by its pseudonymous inventor, Satoshi Nakamoto, to work as a currency, but its status </span>\n",
       "<span style=\"color: #c0c0c0; text-decoration-color: #c0c0c0\">as a currency is disputed. Economists define...</span>\n",
       "<span style=\"color: #c0c0c0; text-decoration-color: #c0c0c0\"> </span>       <span style=\"color: #008000; text-decoration-color: #008000; font-weight: bold\">91</span><span style=\"color: #008000; text-decoration-color: #008000\"> KB </span><span style=\"color: #008000; text-decoration-color: #008000; font-weight: bold\">(</span><span style=\"color: #008000; text-decoration-color: #008000; font-weight: bold\">8</span><span style=\"color: #008000; text-decoration-color: #008000\">,</span><span style=\"color: #008000; text-decoration-color: #008000; font-weight: bold\">585</span><span style=\"color: #008000; text-decoration-color: #008000\"> words</span><span style=\"color: #008000; text-decoration-color: #008000; font-weight: bold\">)</span><span style=\"color: #008000; text-decoration-color: #008000\"> - </span><span style=\"color: #008000; text-decoration-color: #008000; font-weight: bold\">10:57</span><span style=\"color: #008000; text-decoration-color: #008000\">, </span><span style=\"color: #008000; text-decoration-color: #008000; font-weight: bold\">2</span><span style=\"color: #008000; text-decoration-color: #008000\"> March </span><span style=\"color: #008000; text-decoration-color: #008000; font-weight: bold\">2024</span>\n",
       "\n",
       "</pre>\n"
      ],
      "text/plain": [
       "\u001b[1;34m16\u001b[0m\u001b[34m \u001b[0m     \u001b[34mEconomics of bitcoin\u001b[0m\n",
       "\u001b[34m \u001b[0m       \u001b[37mBitcoin was designed by its pseudonymous inventor, Satoshi Nakamoto, to work as a currency, but its status \u001b[0m\n",
       "\u001b[37mas a currency is disputed. Economists define\u001b[0m\u001b[37m...\u001b[0m\n",
       "\u001b[37m \u001b[0m       \u001b[1;32m91\u001b[0m\u001b[32m KB \u001b[0m\u001b[1;32m(\u001b[0m\u001b[1;32m8\u001b[0m\u001b[32m,\u001b[0m\u001b[1;32m585\u001b[0m\u001b[32m words\u001b[0m\u001b[1;32m)\u001b[0m\u001b[32m - \u001b[0m\u001b[1;32m10:57\u001b[0m\u001b[32m, \u001b[0m\u001b[1;32m2\u001b[0m\u001b[32m March \u001b[0m\u001b[1;32m2024\u001b[0m\n",
       "\n"
      ]
     },
     "metadata": {},
     "output_type": "display_data"
    },
    {
     "data": {
      "text/html": [
       "<pre style=\"white-space:pre;overflow-x:auto;line-height:normal;font-family:Menlo,'DejaVu Sans Mono',consolas,'Courier New',monospace\"><span style=\"color: #000080; text-decoration-color: #000080; font-weight: bold\">17</span><span style=\"color: #000080; text-decoration-color: #000080\"> </span>     <span style=\"color: #000080; text-decoration-color: #000080\">Bitcoin City</span>\n",
       "<span style=\"color: #000080; text-decoration-color: #000080\"> </span>       <span style=\"color: #c0c0c0; text-decoration-color: #c0c0c0\">Bitcoin City is a planned smart city project in La Unión, El Salvador. The planned city is intended to be a</span>\n",
       "<span style=\"color: #c0c0c0; text-decoration-color: #c0c0c0\">tax haven, and to use geothermal energy to...</span>\n",
       "<span style=\"color: #c0c0c0; text-decoration-color: #c0c0c0\"> </span>       <span style=\"color: #008000; text-decoration-color: #008000; font-weight: bold\">8</span><span style=\"color: #008000; text-decoration-color: #008000\"> KB </span><span style=\"color: #008000; text-decoration-color: #008000; font-weight: bold\">(</span><span style=\"color: #008000; text-decoration-color: #008000; font-weight: bold\">486</span><span style=\"color: #008000; text-decoration-color: #008000\"> words</span><span style=\"color: #008000; text-decoration-color: #008000; font-weight: bold\">)</span><span style=\"color: #008000; text-decoration-color: #008000\"> - </span><span style=\"color: #008000; text-decoration-color: #008000; font-weight: bold\">19:00</span><span style=\"color: #008000; text-decoration-color: #008000\">, </span><span style=\"color: #008000; text-decoration-color: #008000; font-weight: bold\">26</span><span style=\"color: #008000; text-decoration-color: #008000\"> February </span><span style=\"color: #008000; text-decoration-color: #008000; font-weight: bold\">2024</span>\n",
       "\n",
       "</pre>\n"
      ],
      "text/plain": [
       "\u001b[1;34m17\u001b[0m\u001b[34m \u001b[0m     \u001b[34mBitcoin City\u001b[0m\n",
       "\u001b[34m \u001b[0m       \u001b[37mBitcoin City is a planned smart city project in La Unión, El Salvador. The planned city is intended to be a\u001b[0m\n",
       "\u001b[37mtax haven, and to use geothermal energy to\u001b[0m\u001b[37m...\u001b[0m\n",
       "\u001b[37m \u001b[0m       \u001b[1;32m8\u001b[0m\u001b[32m KB \u001b[0m\u001b[1;32m(\u001b[0m\u001b[1;32m486\u001b[0m\u001b[32m words\u001b[0m\u001b[1;32m)\u001b[0m\u001b[32m - \u001b[0m\u001b[1;32m19:00\u001b[0m\u001b[32m, \u001b[0m\u001b[1;32m26\u001b[0m\u001b[32m February \u001b[0m\u001b[1;32m2024\u001b[0m\n",
       "\n"
      ]
     },
     "metadata": {},
     "output_type": "display_data"
    },
    {
     "data": {
      "text/html": [
       "<pre style=\"white-space:pre;overflow-x:auto;line-height:normal;font-family:Menlo,'DejaVu Sans Mono',consolas,'Courier New',monospace\"><span style=\"color: #000080; text-decoration-color: #000080; font-weight: bold\">18</span><span style=\"color: #000080; text-decoration-color: #000080\"> </span>     <span style=\"color: #000080; text-decoration-color: #000080\">Bitcoin.com</span>\n",
       "<span style=\"color: #000080; text-decoration-color: #000080\"> </span>       <span style=\"color: #c0c0c0; text-decoration-color: #c0c0c0\">Bitcoin.com is a bitcoin and cryptocurrency wallet developer and news &amp; education portal. As a </span>\n",
       "<span style=\"color: #c0c0c0; text-decoration-color: #c0c0c0\">cryptocurrency company, Bitcoin.com provides products, services...</span>\n",
       "<span style=\"color: #c0c0c0; text-decoration-color: #c0c0c0\"> </span>       <span style=\"color: #008000; text-decoration-color: #008000; font-weight: bold\">7</span><span style=\"color: #008000; text-decoration-color: #008000\"> KB </span><span style=\"color: #008000; text-decoration-color: #008000; font-weight: bold\">(</span><span style=\"color: #008000; text-decoration-color: #008000; font-weight: bold\">640</span><span style=\"color: #008000; text-decoration-color: #008000\"> words</span><span style=\"color: #008000; text-decoration-color: #008000; font-weight: bold\">)</span><span style=\"color: #008000; text-decoration-color: #008000\"> - </span><span style=\"color: #008000; text-decoration-color: #008000; font-weight: bold\">07:42</span><span style=\"color: #008000; text-decoration-color: #008000\">, </span><span style=\"color: #008000; text-decoration-color: #008000; font-weight: bold\">7</span><span style=\"color: #008000; text-decoration-color: #008000\"> March </span><span style=\"color: #008000; text-decoration-color: #008000; font-weight: bold\">2024</span>\n",
       "\n",
       "</pre>\n"
      ],
      "text/plain": [
       "\u001b[1;34m18\u001b[0m\u001b[34m \u001b[0m     \u001b[34mBitcoin.com\u001b[0m\n",
       "\u001b[34m \u001b[0m       \u001b[37mBitcoin.com is a bitcoin and cryptocurrency wallet developer and news & education portal. As a \u001b[0m\n",
       "\u001b[37mcryptocurrency company, Bitcoin.com provides products, services\u001b[0m\u001b[37m...\u001b[0m\n",
       "\u001b[37m \u001b[0m       \u001b[1;32m7\u001b[0m\u001b[32m KB \u001b[0m\u001b[1;32m(\u001b[0m\u001b[1;32m640\u001b[0m\u001b[32m words\u001b[0m\u001b[1;32m)\u001b[0m\u001b[32m - \u001b[0m\u001b[1;32m07:42\u001b[0m\u001b[32m, \u001b[0m\u001b[1;32m7\u001b[0m\u001b[32m March \u001b[0m\u001b[1;32m2024\u001b[0m\n",
       "\n"
      ]
     },
     "metadata": {},
     "output_type": "display_data"
    },
    {
     "data": {
      "text/html": [
       "<pre style=\"white-space:pre;overflow-x:auto;line-height:normal;font-family:Menlo,'DejaVu Sans Mono',consolas,'Courier New',monospace\"><span style=\"color: #000080; text-decoration-color: #000080; font-weight: bold\">19</span><span style=\"color: #000080; text-decoration-color: #000080\"> </span>     <span style=\"color: #000080; text-decoration-color: #000080\">Environmental effects of bitcoin</span>\n",
       "<span style=\"color: #000080; text-decoration-color: #000080\"> </span>       <span style=\"color: #c0c0c0; text-decoration-color: #c0c0c0\">The environmental effects of bitcoin are significant. Bitcoin mining, the process by which bitcoins are </span>\n",
       "<span style=\"color: #c0c0c0; text-decoration-color: #c0c0c0\">created and transactions are finalized, is energy-consuming...</span>\n",
       "<span style=\"color: #c0c0c0; text-decoration-color: #c0c0c0\"> </span>       <span style=\"color: #008000; text-decoration-color: #008000; font-weight: bold\">30</span><span style=\"color: #008000; text-decoration-color: #008000\"> KB </span><span style=\"color: #008000; text-decoration-color: #008000; font-weight: bold\">(</span><span style=\"color: #008000; text-decoration-color: #008000; font-weight: bold\">2</span><span style=\"color: #008000; text-decoration-color: #008000\">,</span><span style=\"color: #008000; text-decoration-color: #008000; font-weight: bold\">706</span><span style=\"color: #008000; text-decoration-color: #008000\"> words</span><span style=\"color: #008000; text-decoration-color: #008000; font-weight: bold\">)</span><span style=\"color: #008000; text-decoration-color: #008000\"> - </span><span style=\"color: #008000; text-decoration-color: #008000; font-weight: bold\">16:37</span><span style=\"color: #008000; text-decoration-color: #008000\">, </span><span style=\"color: #008000; text-decoration-color: #008000; font-weight: bold\">28</span><span style=\"color: #008000; text-decoration-color: #008000\"> February </span><span style=\"color: #008000; text-decoration-color: #008000; font-weight: bold\">2024</span>\n",
       "\n",
       "</pre>\n"
      ],
      "text/plain": [
       "\u001b[1;34m19\u001b[0m\u001b[34m \u001b[0m     \u001b[34mEnvironmental effects of bitcoin\u001b[0m\n",
       "\u001b[34m \u001b[0m       \u001b[37mThe environmental effects of bitcoin are significant. Bitcoin mining, the process by which bitcoins are \u001b[0m\n",
       "\u001b[37mcreated and transactions are finalized, is energy-consuming\u001b[0m\u001b[37m...\u001b[0m\n",
       "\u001b[37m \u001b[0m       \u001b[1;32m30\u001b[0m\u001b[32m KB \u001b[0m\u001b[1;32m(\u001b[0m\u001b[1;32m2\u001b[0m\u001b[32m,\u001b[0m\u001b[1;32m706\u001b[0m\u001b[32m words\u001b[0m\u001b[1;32m)\u001b[0m\u001b[32m - \u001b[0m\u001b[1;32m16:37\u001b[0m\u001b[32m, \u001b[0m\u001b[1;32m28\u001b[0m\u001b[32m February \u001b[0m\u001b[1;32m2024\u001b[0m\n",
       "\n"
      ]
     },
     "metadata": {},
     "output_type": "display_data"
    },
    {
     "data": {
      "text/html": [
       "<pre style=\"white-space:pre;overflow-x:auto;line-height:normal;font-family:Menlo,'DejaVu Sans Mono',consolas,'Courier New',monospace\">Select the number of the article you want to open: </pre>\n"
      ],
      "text/plain": [
       "Select the number of the article you want to open: "
      ]
     },
     "metadata": {},
     "output_type": "display_data"
    },
    {
     "name": "stdin",
     "output_type": "stream",
     "text": [
      " 5\n"
     ]
    },
    {
     "data": {
      "text/plain": [
       "True"
      ]
     },
     "execution_count": 7,
     "metadata": {},
     "output_type": "execute_result"
    }
   ],
   "source": [
    "ses = requests_html.HTMLSession()\n",
    "language = 'en'\n",
    "console = console.Console()\n",
    "\n",
    "search_term = console.input(\"Insert the search term: \")\n",
    "url = f'https://{language}.wikipedia.org/w/index.php?search={search_term}&fulltext=1&ns0=1'\n",
    "res = ses.get(url)\n",
    "results = res.html.find('.mw-search-result')\n",
    "urls = []\n",
    "for num,result in enumerate(results):\n",
    "    title = result.find('.mw-search-result-heading', first=True).text\n",
    "    summary = result.find('.searchresult', first=True).text\n",
    "    data = result.find('.mw-search-result-data', first=True).text\n",
    "    urls.append(result.find('.mw-search-result-heading', first=True).absolute_links.pop())\n",
    "    console.print(f'[blue]{num}\\t{title}\\n\\t[white]{summary}\\n\\t[green]{data}\\n')\n",
    "selected_item = int(console.input(\"Select the number of the article you want to open: \"))\n",
    "webbrowser.open(urls[selected_item])"
   ]
  },
  {
   "cell_type": "code",
   "execution_count": 9,
   "id": "b957ecfe-1378-43ac-a84f-68e6e958b465",
   "metadata": {},
   "outputs": [
    {
     "name": "stdout",
     "output_type": "stream",
     "text": [
      "Looking in indexes: https://pypi.org/simple/\n",
      "Collecting console\n",
      "  Downloading console-0.9907-py2.py3-none-any.whl.metadata (17 kB)\n",
      "Collecting ezenv>=0.92 (from console)\n",
      "  Downloading ezenv-0.92-py2.py3-none-any.whl.metadata (13 kB)\n",
      "Collecting jinxed (from console)\n",
      "  Downloading jinxed-1.2.1-py2.py3-none-any.whl.metadata (4.7 kB)\n",
      "Collecting ansicon (from jinxed->console)\n",
      "  Downloading ansicon-1.89.0-py2.py3-none-any.whl.metadata (2.8 kB)\n",
      "Downloading console-0.9907-py2.py3-none-any.whl (95 kB)\n",
      "   ---------------------------------------- 0.0/95.7 kB ? eta -:--:--\n",
      "   ---------------------------------------- 95.7/95.7 kB 2.8 MB/s eta 0:00:00\n",
      "Downloading ezenv-0.92-py2.py3-none-any.whl (10 kB)\n",
      "Downloading jinxed-1.2.1-py2.py3-none-any.whl (33 kB)\n",
      "Downloading ansicon-1.89.0-py2.py3-none-any.whl (63 kB)\n",
      "   ---------------------------------------- 0.0/63.7 kB ? eta -:--:--\n",
      "   ---------------------------------------- 63.7/63.7 kB 3.3 MB/s eta 0:00:00\n",
      "Installing collected packages: ezenv, ansicon, jinxed, console\n",
      "Successfully installed ansicon-1.89.0 console-0.9907 ezenv-0.92 jinxed-1.2.1\n"
     ]
    }
   ],
   "source": [
    "!pip install console"
   ]
  },
  {
   "cell_type": "code",
   "execution_count": 11,
   "id": "61b59855-95a5-40a7-9b2d-1d3bfc5024f8",
   "metadata": {},
   "outputs": [
    {
     "name": "stdin",
     "output_type": "stream",
     "text": [
      "Please enter a keyword to search on Wikipedia:  recent AI models\n"
     ]
    },
    {
     "name": "stdout",
     "output_type": "stream",
     "text": [
      "[blue]0\tLarge language model\n",
      "\t[white]the same name), xAI's Grok, Meta's LLaMA family of open-source models, Anthropic's Claude models, and Mistral AI's open source models. At the 2017 NeurIPS...\n",
      "\t[green]125 KB (11,418 words) - 13:13, 16 March 2024\n",
      "\n",
      "[blue]1\tGenerative artificial intelligence (redirect from Generative AI)\n",
      "\t[white]intelligence (generative AI, GenAI, or GAI) is artificial intelligence capable of generating text, images or other data using generative models, often in response...\n",
      "\t[green]82 KB (8,248 words) - 22:43, 16 March 2024\n",
      "\n",
      "[blue]2\tGenerative pre-trained transformer (redirect from GPT Foundational models)\n",
      "\t[white]of such models developed by others. For example, other GPT foundation models include a series of models created by EleutherAI, and seven models created...\n",
      "\t[green]46 KB (4,098 words) - 11:18, 18 February 2024\n",
      "\n",
      "[blue]3\tStable Diffusion (redirect from Stability.ai)\n",
      "\t[white]learning, text-to-image model released in 2022 based on diffusion techniques. It is considered to be a part of the ongoing AI boom. It is primarily used...\n",
      "\t[green]58 KB (5,408 words) - 16:17, 16 March 2024\n",
      "\n",
      "[blue]4\tAI alignment\n",
      "\t[white]AI is honest and truthful. Language models such as GPT-3 repeat falsehoods from their training data, and even confabulate new falsehoods. Such models...\n",
      "\t[green]118 KB (11,559 words) - 09:37, 15 March 2024\n",
      "\n",
      "[blue]5\tText-to-image model\n",
      "\t[white]of the AI spring, as a result of advances in deep neural networks. In 2022, the output of state of the art text-to-image models, such as OpenAI's DALL-E...\n",
      "\t[green]15 KB (1,759 words) - 21:40, 15 March 2024\n",
      "\n",
      "[blue]6\tAI era\n",
      "\t[white]around the early 2020s, with the release of generative AI models including large language models such as ChatGPT, which replicated aspects of human cognition...\n",
      "\t[green]20 KB (1,897 words) - 12:37, 15 March 2024\n",
      "\n",
      "[blue]7\tArtificial general intelligence (redirect from Hard AI)\n",
      "\t[white]artificial intelligence (AI) that can perform as well or better than humans on a wide range of cognitive tasks, as opposed to narrow AI, which is designed for...\n",
      "\t[green]105 KB (11,473 words) - 20:28, 16 March 2024\n",
      "\n",
      "[blue]8\tMicrosoft Copilot (redirect from Bing AI)\n",
      "\t[white]underlying model. In November 2022, OpenAI launched ChatGPT, a chatbot based on the GPT-3 family of large language models. ChatGPT gained worldwide attention...\n",
      "\t[green]51 KB (4,621 words) - 13:58, 15 March 2024\n",
      "\n",
      "[blue]9\tAI safety\n",
      "\t[white]control associated with frontier AI models. AI safety research areas include robustness, monitoring, and alignment. AI systems are often vulnerable to...\n",
      "\t[green]75 KB (9,046 words) - 18:16, 2 March 2024\n",
      "\n",
      "[blue]10\tArtificial intelligence art (redirect from AI-generated art)\n",
      "\t[white]through the use of artificial intelligence (AI) programs such as text-to-image models. Artists began to create AI art in the mid- to late 20th century, when...\n",
      "\t[green]73 KB (6,085 words) - 13:00, 15 March 2024\n",
      "\n",
      "[blue]11\tArtificial intelligence and copyright (redirect from Copyright status of AI-generated works)\n",
      "\t[white]generative artificial intelligence models, including text-to-image models such as Stable Diffusion and large language models such as ChatGPT, are posing questions...\n",
      "\t[green]27 KB (3,185 words) - 22:01, 28 February 2024\n",
      "\n",
      "[blue]12\tExistential risk from artificial general intelligence (redirect from Existential risk of AI)\n",
      "\t[white]unlike human brains, AI software and models can be easily copied. Editability: the parameters and internal workings of an AI model can easily be modified...\n",
      "\t[green]126 KB (13,173 words) - 06:39, 16 March 2024\n",
      "\n",
      "[blue]13\tAI Dungeon\n",
      "\t[white]AI Dungeon is a single-player/multiplayer text adventure game which uses artificial intelligence (AI) to generate content and allows players to create...\n",
      "\t[green]43 KB (3,681 words) - 19:26, 13 February 2024\n",
      "\n",
      "[blue]14\tHistory of artificial intelligence (redirect from History of AI)\n",
      "\t[white]The history of artificial intelligence (AI) began in antiquity, with myths, stories and rumors of artificial beings endowed with intelligence or consciousness...\n",
      "\t[green]133 KB (15,617 words) - 01:53, 10 March 2024\n",
      "\n",
      "[blue]15\tDeaths in 2024 (redirect from Recent celebrity deaths)\n",
      "\t[white]mancata Cecilia Eckelmann Battistello, lo shipping piange âThe Ladyâ arrivata ai vertici del terminalismo portuale (in Italian) Leading Conceptual Icelandic...\n",
      "\t[green]109 KB (7,894 words) - 04:01, 17 March 2024\n",
      "\n",
      "[blue]16\tText-to-video model\n",
      "\t[white]Google model precursor of Lumiere Sora, OpenAI model Runway, the company developing Gen-1 and Gen-2 models Artificial Intelligence Index Report 2023 (PDF)...\n",
      "\t[green]7 KB (591 words) - 01:51, 2 March 2024\n",
      "\n",
      "[blue]17\tGPT-3 (redirect from GPT-3 (language model))\n",
      "\t[white](GPT-3) is a large language model released by OpenAI in 2020. Like its predecessor, GPT-2, it is a decoder-only transformer model of deep neural network,...\n",
      "\t[green]54 KB (4,931 words) - 18:44, 10 March 2024\n",
      "\n",
      "[blue]18\tReinforcement learning from human feedback (redirect from Reinforcement learning from AI feedback)\n",
      "\t[white]or outside the knowledge space of the model. Some notable examples of RLHF-trained language models are OpenAI's ChatGPT (and its predecessor InstructGPT)...\n",
      "\t[green]34 KB (3,695 words) - 04:33, 15 March 2024\n",
      "\n",
      "[blue]19\tArtificial intelligence in video games (redirect from Game ai)\n",
      "\t[white]In video games, artificial intelligence (AI) is used to generate responsive, adaptive or intelligent behaviors primarily in non-playable characters (NPCs)...\n",
      "\t[green]46 KB (5,969 words) - 20:35, 12 March 2024\n",
      "\n"
     ]
    },
    {
     "name": "stdin",
     "output_type": "stream",
     "text": [
      "Please select the number of the article you want to open:  0\n"
     ]
    },
    {
     "data": {
      "text/plain": [
       "True"
      ]
     },
     "execution_count": 11,
     "metadata": {},
     "output_type": "execute_result"
    }
   ],
   "source": [
    "import requests_html\n",
    "import webbrowser\n",
    "\n",
    "# Establish a session for making HTTP requests\n",
    "session = requests_html.HTMLSession()\n",
    "\n",
    "# Language for Wikipedia\n",
    "language = 'en'\n",
    "\n",
    "# Prompt the user to input a search term\n",
    "search_term = input(\"Please enter a keyword to search on Wikipedia: \")\n",
    "\n",
    "# Construct the Wikipedia search URL\n",
    "search_url = f'https://{language}.wikipedia.org/w/index.php?search={search_term}&fulltext=1&ns0=1'\n",
    "\n",
    "# Send a GET request to Wikipedia search URL\n",
    "response = session.get(search_url)\n",
    "\n",
    "# Extract search results\n",
    "search_results = response.html.find('.mw-search-result')\n",
    "\n",
    "# Store URLs of search results\n",
    "urls = []\n",
    "\n",
    "# Iterate through search results and display them to the user\n",
    "for index, result in enumerate(search_results):\n",
    "    title = result.find('.mw-search-result-heading', first=True).text\n",
    "    summary = result.find('.searchresult', first=True).text\n",
    "    metadata = result.find('.mw-search-result-data', first=True).text\n",
    "    urls.append(result.find('.mw-search-result-heading', first=True).absolute_links.pop())\n",
    "    print(f'[blue]{index}\\t{title}\\n\\t[white]{summary}\\n\\t[green]{metadata}\\n')\n",
    "\n",
    "# Prompt the user to select an article to open\n",
    "selected_index = int(input(\"Please select the number of the article you want to open: \"))\n",
    "\n",
    "# Open the selected article in a web browser\n",
    "webbrowser.open(urls[selected_index])\n"
   ]
  },
  {
   "cell_type": "code",
   "execution_count": null,
   "id": "64351c2a-78e7-4d40-b187-56a7d336f8f6",
   "metadata": {},
   "outputs": [],
   "source": []
  }
 ],
 "metadata": {
  "kernelspec": {
   "display_name": "Python 3 (ipykernel)",
   "language": "python",
   "name": "python3"
  },
  "language_info": {
   "codemirror_mode": {
    "name": "ipython",
    "version": 3
   },
   "file_extension": ".py",
   "mimetype": "text/x-python",
   "name": "python",
   "nbconvert_exporter": "python",
   "pygments_lexer": "ipython3",
   "version": "3.8.0"
  }
 },
 "nbformat": 4,
 "nbformat_minor": 5
}
